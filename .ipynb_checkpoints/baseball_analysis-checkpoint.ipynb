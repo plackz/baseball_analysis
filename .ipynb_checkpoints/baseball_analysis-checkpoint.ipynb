{
 "cells": [
  {
   "cell_type": "code",
   "execution_count": 94,
   "metadata": {
    "collapsed": true
   },
   "outputs": [],
   "source": [
    "import pandas as pd\n",
    "import scipy as sp\n",
    "import matplotlib.pyplot as plt\n",
    "%matplotlib inline\n",
    "from matplotlib.ticker import FuncFormatter\n",
    "import statsmodels.formula.api as sm"
   ]
  },
  {
   "cell_type": "code",
   "execution_count": 95,
   "metadata": {
    "collapsed": true
   },
   "outputs": [],
   "source": [
    "teams = pd.read_csv('Teams.csv')\n",
    "teams = teams[teams['yearID'] >= 1985]\n",
    "teams = teams[['yearID', 'teamID', 'Rank', 'R', 'RA', 'G', 'W', 'H', 'BB', 'HBP', 'AB', 'SF', 'HR', '2B', '3B']]\n",
    "teams = teams.set_index(['yearID', 'teamID'])"
   ]
  },
  {
   "cell_type": "code",
   "execution_count": 96,
   "metadata": {},
   "outputs": [],
   "source": [
    "salaries = pd.read_csv('Salaries.csv')\n",
    "salaries_by_yearID_teamID = salaries.groupby(['yearID', 'teamID'])['salary'].sum()\n",
    "teams = teams.join(salaries_by_yearID_teamID)"
   ]
  },
  {
   "cell_type": "code",
   "execution_count": 98,
   "metadata": {},
   "outputs": [
    {
     "data": {
      "image/png": "[encoded data removed]",
      "text/plain": [
       "<matplotlib.figure.Figure at 0x7f07d3952518>"
      ]
     },
     "metadata": {},
     "output_type": "display_data"
    }
   ],
   "source": [
    "plt.scatter(teams['salary'][2001], teams['W'][2001])\n",
    "plt.show()"
   ]
  },
  {
   "cell_type": "code",
   "execution_count": 99,
   "metadata": {
    "collapsed": true
   },
   "outputs": [],
   "source": [
    "def millions(x, pos):\n",
    "    'The two args are the value and tick position'\n",
    "    return '${:.1f}M'.format(x*1e-6)\n",
    "\n",
    "formatter = FuncFormatter(millions)\n",
    "\n",
    "def plot_spending_wins(teams, year):    \n",
    "    teams_year = teams.xs(year)\n",
    "    fig, ax = plt.subplots()\n",
    "    for i in teams_year.index:\n",
    "        if i == 'OAK':\n",
    "            ax.scatter(teams_year['salary'][i], teams_year['W'][i], color=\"#4DDB94\", s=200)\n",
    "            ax.annotate(i, (teams_year['salary'][i], teams_year['W'][i]),\n",
    "                        bbox=dict(boxstyle=\"round\", color=\"#4DDB94\"),\n",
    "                        xytext=(-30, 30), textcoords='offset points',\n",
    "                        arrowprops=dict(arrowstyle=\"->\", connectionstyle=\"angle,angleA=0,angleB=90,rad=10\"))\n",
    "        elif i == 'DET':\n",
    "            ax.scatter(teams_year['salary'][i], teams_year['W'][i], color=\"#0099FF\", s=200)\n",
    "            ax.annotate(i, (teams_year['salary'][i], teams_year['W'][i]),\n",
    "                        bbox=dict(boxstyle=\"round\", color=\"#0099FF\"),\n",
    "                        xytext=(30, -30), textcoords='offset points',\n",
    "                        arrowprops=dict(arrowstyle=\"->\", connectionstyle=\"angle,angleA=0,angleB=90,rad=10\"))\n",
    "        elif i == 'NYA':\n",
    "            ax.scatter(teams_year['salary'][i], teams_year['W'][i], color=\"#0099ff\", s=200)\n",
    "            ax.annotate(i, (teams_year['salary'][i], teams_year['W'][i]),\n",
    "                        bbox=dict(boxstyle=\"round\", color=\"#0099ff\"),\n",
    "                        xytext=(-30, 30), textcoords='offset points',\n",
    "                        arrowprops=dict(arrowstyle=\"->\", connectionstyle=\"angle,angleA=0,angleB=90,rad=10\"))     \n",
    "        else:\n",
    "            ax.scatter(teams_year['salary'][i], teams_year['W'][i], color=\"grey\", s=200)\n",
    "    ax.xaxis.set_major_formatter(formatter) \n",
    "    ax.tick_params(axis='x', labelsize=15)\n",
    "    ax.tick_params(axis='y', labelsize=15)\n",
    "    ax.set_xlabel('Salaries', fontsize=20)\n",
    "    ax.set_ylabel('Number of Wins' , fontsize=20)\n",
    "    ax.set_title('Salaries - Wins: '+ str(year), fontsize=25, fontweight='bold')\n",
    "    plt.show()"
   ]
  },
  {
   "cell_type": "code",
   "execution_count": 101,
   "metadata": {},
   "outputs": [
    {
     "data": {
      "image/png": "[encoded data removed]",
      "text/plain": [
       "<matplotlib.figure.Figure at 0x7f07cb8719e8>"
      ]
     },
     "metadata": {},
     "output_type": "display_data"
    }
   ],
   "source": [
    "plot_spending_wins(teams, 2008)"
   ]
  },
  {
   "cell_type": "code",
   "execution_count": 102,
   "metadata": {
    "collapsed": true
   },
   "outputs": [],
   "source": [
    "teams['BA'] = teams['H']/teams['AB']\n",
    "teams['OBP'] = (teams['H'] + teams['BB'] + teams['HBP']) / (teams['AB'] + teams['BB'] + teams['HBP'] + teams['SF'])\n",
    "teams['SLG'] = (teams['H'] + teams['2B'] + (2*teams['3B']) + (3*teams['HR'])) / teams['AB']\n",
    "teams['OPS'] = (teams['OBP'] + teams['SLG'])"
   ]
  },
  {
   "cell_type": "code",
   "execution_count": 107,
   "metadata": {
    "collapsed": true
   },
   "outputs": [],
   "source": [
    "#First Model\n",
    "runs_reg_model1 = sm.ols(\"R~OBP+SLG+BA\",teams)\n",
    "runs_reg1 = runs_reg_model1.fit()\n",
    "#Second Model\n",
    "runs_reg_model2 = sm.ols(\"R~OBP+SLG\",teams)\n",
    "runs_reg2 = runs_reg_model2.fit()\n",
    "#Third Model\n",
    "runs_reg_model3 = sm.ols(\"R~BA\",teams)\n",
    "runs_reg3 = runs_reg_model3.fit()\n",
    "#Fourth Model\n",
    "runs_reg_model4 = sm.ols(\"R~OPS\",teams)\n",
    "runs_reg4 = runs_reg_model4.fit()"
   ]
  },
  {
   "cell_type": "code",
   "execution_count": 104,
   "metadata": {},
   "outputs": [
    {
     "data": {
      "text/html": [
       "<table class=\"simpletable\">\n",
       "<caption>OLS Regression Results</caption>\n",
       "<tr>\n",
       "  <th>Dep. Variable:</th>            <td>R</td>        <th>  R-squared:         </th> <td>   0.501</td> \n",
       "</tr>\n",
       "<tr>\n",
       "  <th>Model:</th>                   <td>OLS</td>       <th>  Adj. R-squared:    </th> <td>   0.500</td> \n",
       "</tr>\n",
       "<tr>\n",
       "  <th>Method:</th>             <td>Least Squares</td>  <th>  F-statistic:       </th> <td>   829.6</td> \n",
       "</tr>\n",
       "<tr>\n",
       "  <th>Date:</th>             <td>Tue, 24 Apr 2018</td> <th>  Prob (F-statistic):</th> <td>7.63e-127</td>\n",
       "</tr>\n",
       "<tr>\n",
       "  <th>Time:</th>                 <td>21:55:18</td>     <th>  Log-Likelihood:    </th> <td> -4623.9</td> \n",
       "</tr>\n",
       "<tr>\n",
       "  <th>No. Observations:</th>      <td>   828</td>      <th>  AIC:               </th> <td>   9252.</td> \n",
       "</tr>\n",
       "<tr>\n",
       "  <th>Df Residuals:</th>          <td>   826</td>      <th>  BIC:               </th> <td>   9261.</td> \n",
       "</tr>\n",
       "<tr>\n",
       "  <th>Df Model:</th>              <td>     1</td>      <th>                     </th>     <td> </td>    \n",
       "</tr>\n",
       "<tr>\n",
       "  <th>Covariance Type:</th>      <td>nonrobust</td>    <th>                     </th>     <td> </td>    \n",
       "</tr>\n",
       "</table>\n",
       "<table class=\"simpletable\">\n",
       "<tr>\n",
       "      <td></td>         <th>coef</th>     <th>std err</th>      <th>t</th>      <th>P>|t|</th>  <th>[0.025</th>    <th>0.975]</th>  \n",
       "</tr>\n",
       "<tr>\n",
       "  <th>Intercept</th> <td> -704.2240</td> <td>   49.995</td> <td>  -14.086</td> <td> 0.000</td> <td> -802.356</td> <td> -606.092</td>\n",
       "</tr>\n",
       "<tr>\n",
       "  <th>BA</th>        <td> 5483.8818</td> <td>  190.400</td> <td>   28.802</td> <td> 0.000</td> <td> 5110.157</td> <td> 5857.606</td>\n",
       "</tr>\n",
       "</table>\n",
       "<table class=\"simpletable\">\n",
       "<tr>\n",
       "  <th>Omnibus:</th>       <td>172.134</td> <th>  Durbin-Watson:     </th> <td>   0.974</td> \n",
       "</tr>\n",
       "<tr>\n",
       "  <th>Prob(Omnibus):</th> <td> 0.000</td>  <th>  Jarque-Bera (JB):  </th> <td> 473.583</td> \n",
       "</tr>\n",
       "<tr>\n",
       "  <th>Skew:</th>          <td>-1.047</td>  <th>  Prob(JB):          </th> <td>1.45e-103</td>\n",
       "</tr>\n",
       "<tr>\n",
       "  <th>Kurtosis:</th>      <td> 6.056</td>  <th>  Cond. No.          </th> <td>    90.8</td> \n",
       "</tr>\n",
       "</table>"
      ],
      "text/plain": [
       "<class 'statsmodels.iolib.summary.Summary'>\n",
       "\"\"\"\n",
       "                            OLS Regression Results                            \n",
       "==============================================================================\n",
       "Dep. Variable:                      R   R-squared:                       0.501\n",
       "Model:                            OLS   Adj. R-squared:                  0.500\n",
       "Method:                 Least Squares   F-statistic:                     829.6\n",
       "Date:                Tue, 24 Apr 2018   Prob (F-statistic):          7.63e-127\n",
       "Time:                        21:55:18   Log-Likelihood:                -4623.9\n",
       "No. Observations:                 828   AIC:                             9252.\n",
       "Df Residuals:                     826   BIC:                             9261.\n",
       "Df Model:                           1                                         \n",
       "Covariance Type:            nonrobust                                         \n",
       "==============================================================================\n",
       "                 coef    std err          t      P>|t|      [0.025      0.975]\n",
       "------------------------------------------------------------------------------\n",
       "Intercept   -704.2240     49.995    -14.086      0.000    -802.356    -606.092\n",
       "BA          5483.8818    190.400     28.802      0.000    5110.157    5857.606\n",
       "==============================================================================\n",
       "Omnibus:                      172.134   Durbin-Watson:                   0.974\n",
       "Prob(Omnibus):                  0.000   Jarque-Bera (JB):              473.583\n",
       "Skew:                          -1.047   Prob(JB):                    1.45e-103\n",
       "Kurtosis:                       6.056   Cond. No.                         90.8\n",
       "==============================================================================\n",
       "\n",
       "Warnings:\n",
       "[1] Standard Errors assume that the covariance matrix of the errors is correctly specified.\n",
       "\"\"\""
      ]
     },
     "execution_count": 104,
     "metadata": {},
     "output_type": "execute_result"
    }
   ],
   "source": [
    "runs_reg1.summary()"
   ]
  },
  {
   "cell_type": "code",
   "execution_count": 106,
   "metadata": {},
   "outputs": [
    {
     "data": {
      "text/html": [
       "<table class=\"simpletable\">\n",
       "<caption>OLS Regression Results</caption>\n",
       "<tr>\n",
       "  <th>Dep. Variable:</th>            <td>R</td>        <th>  R-squared:         </th> <td>   0.919</td> \n",
       "</tr>\n",
       "<tr>\n",
       "  <th>Model:</th>                   <td>OLS</td>       <th>  Adj. R-squared:    </th> <td>   0.919</td> \n",
       "</tr>\n",
       "<tr>\n",
       "  <th>Method:</th>             <td>Least Squares</td>  <th>  F-statistic:       </th> <td>   2362.</td> \n",
       "</tr>\n",
       "<tr>\n",
       "  <th>Date:</th>             <td>Tue, 24 Apr 2018</td> <th>  Prob (F-statistic):</th> <td>3.39e-228</td>\n",
       "</tr>\n",
       "<tr>\n",
       "  <th>Time:</th>                 <td>21:56:11</td>     <th>  Log-Likelihood:    </th> <td> -1927.8</td> \n",
       "</tr>\n",
       "<tr>\n",
       "  <th>No. Observations:</th>      <td>   420</td>      <th>  AIC:               </th> <td>   3862.</td> \n",
       "</tr>\n",
       "<tr>\n",
       "  <th>Df Residuals:</th>          <td>   417</td>      <th>  BIC:               </th> <td>   3874.</td> \n",
       "</tr>\n",
       "<tr>\n",
       "  <th>Df Model:</th>              <td>     2</td>      <th>                     </th>     <td> </td>    \n",
       "</tr>\n",
       "<tr>\n",
       "  <th>Covariance Type:</th>      <td>nonrobust</td>    <th>                     </th>     <td> </td>    \n",
       "</tr>\n",
       "</table>\n",
       "<table class=\"simpletable\">\n",
       "<tr>\n",
       "      <td></td>         <th>coef</th>     <th>std err</th>      <th>t</th>      <th>P>|t|</th>  <th>[0.025</th>    <th>0.975]</th>  \n",
       "</tr>\n",
       "<tr>\n",
       "  <th>Intercept</th> <td> -894.6863</td> <td>   28.041</td> <td>  -31.906</td> <td> 0.000</td> <td> -949.806</td> <td> -839.567</td>\n",
       "</tr>\n",
       "<tr>\n",
       "  <th>OBP</th>       <td> 2782.5861</td> <td>  135.990</td> <td>   20.462</td> <td> 0.000</td> <td> 2515.275</td> <td> 3049.897</td>\n",
       "</tr>\n",
       "<tr>\n",
       "  <th>SLG</th>       <td> 1736.9757</td> <td>   72.380</td> <td>   23.998</td> <td> 0.000</td> <td> 1594.701</td> <td> 1879.250</td>\n",
       "</tr>\n",
       "</table>\n",
       "<table class=\"simpletable\">\n",
       "<tr>\n",
       "  <th>Omnibus:</th>       <td> 5.496</td> <th>  Durbin-Watson:     </th> <td>   1.650</td>\n",
       "</tr>\n",
       "<tr>\n",
       "  <th>Prob(Omnibus):</th> <td> 0.064</td> <th>  Jarque-Bera (JB):  </th> <td>   5.917</td>\n",
       "</tr>\n",
       "<tr>\n",
       "  <th>Skew:</th>          <td> 0.179</td> <th>  Prob(JB):          </th> <td>  0.0519</td>\n",
       "</tr>\n",
       "<tr>\n",
       "  <th>Kurtosis:</th>      <td> 3.459</td> <th>  Cond. No.          </th> <td>    145.</td>\n",
       "</tr>\n",
       "</table>"
      ],
      "text/plain": [
       "<class 'statsmodels.iolib.summary.Summary'>\n",
       "\"\"\"\n",
       "                            OLS Regression Results                            \n",
       "==============================================================================\n",
       "Dep. Variable:                      R   R-squared:                       0.919\n",
       "Model:                            OLS   Adj. R-squared:                  0.919\n",
       "Method:                 Least Squares   F-statistic:                     2362.\n",
       "Date:                Tue, 24 Apr 2018   Prob (F-statistic):          3.39e-228\n",
       "Time:                        21:56:11   Log-Likelihood:                -1927.8\n",
       "No. Observations:                 420   AIC:                             3862.\n",
       "Df Residuals:                     417   BIC:                             3874.\n",
       "Df Model:                           2                                         \n",
       "Covariance Type:            nonrobust                                         \n",
       "==============================================================================\n",
       "                 coef    std err          t      P>|t|      [0.025      0.975]\n",
       "------------------------------------------------------------------------------\n",
       "Intercept   -894.6863     28.041    -31.906      0.000    -949.806    -839.567\n",
       "OBP         2782.5861    135.990     20.462      0.000    2515.275    3049.897\n",
       "SLG         1736.9757     72.380     23.998      0.000    1594.701    1879.250\n",
       "==============================================================================\n",
       "Omnibus:                        5.496   Durbin-Watson:                   1.650\n",
       "Prob(Omnibus):                  0.064   Jarque-Bera (JB):                5.917\n",
       "Skew:                           0.179   Prob(JB):                       0.0519\n",
       "Kurtosis:                       3.459   Cond. No.                         145.\n",
       "==============================================================================\n",
       "\n",
       "Warnings:\n",
       "[1] Standard Errors assume that the covariance matrix of the errors is correctly specified.\n",
       "\"\"\""
      ]
     },
     "execution_count": 106,
     "metadata": {},
     "output_type": "execute_result"
    }
   ],
   "source": [
    "runs_reg2.summary()"
   ]
  },
  {
   "cell_type": "code",
   "execution_count": 105,
   "metadata": {},
   "outputs": [
    {
     "data": {
      "text/html": [
       "<table class=\"simpletable\">\n",
       "<caption>OLS Regression Results</caption>\n",
       "<tr>\n",
       "  <th>Dep. Variable:</th>            <td>R</td>        <th>  R-squared:         </th> <td>   0.501</td> \n",
       "</tr>\n",
       "<tr>\n",
       "  <th>Model:</th>                   <td>OLS</td>       <th>  Adj. R-squared:    </th> <td>   0.500</td> \n",
       "</tr>\n",
       "<tr>\n",
       "  <th>Method:</th>             <td>Least Squares</td>  <th>  F-statistic:       </th> <td>   829.6</td> \n",
       "</tr>\n",
       "<tr>\n",
       "  <th>Date:</th>             <td>Tue, 24 Apr 2018</td> <th>  Prob (F-statistic):</th> <td>7.63e-127</td>\n",
       "</tr>\n",
       "<tr>\n",
       "  <th>Time:</th>                 <td>21:56:08</td>     <th>  Log-Likelihood:    </th> <td> -4623.9</td> \n",
       "</tr>\n",
       "<tr>\n",
       "  <th>No. Observations:</th>      <td>   828</td>      <th>  AIC:               </th> <td>   9252.</td> \n",
       "</tr>\n",
       "<tr>\n",
       "  <th>Df Residuals:</th>          <td>   826</td>      <th>  BIC:               </th> <td>   9261.</td> \n",
       "</tr>\n",
       "<tr>\n",
       "  <th>Df Model:</th>              <td>     1</td>      <th>                     </th>     <td> </td>    \n",
       "</tr>\n",
       "<tr>\n",
       "  <th>Covariance Type:</th>      <td>nonrobust</td>    <th>                     </th>     <td> </td>    \n",
       "</tr>\n",
       "</table>\n",
       "<table class=\"simpletable\">\n",
       "<tr>\n",
       "      <td></td>         <th>coef</th>     <th>std err</th>      <th>t</th>      <th>P>|t|</th>  <th>[0.025</th>    <th>0.975]</th>  \n",
       "</tr>\n",
       "<tr>\n",
       "  <th>Intercept</th> <td> -704.2240</td> <td>   49.995</td> <td>  -14.086</td> <td> 0.000</td> <td> -802.356</td> <td> -606.092</td>\n",
       "</tr>\n",
       "<tr>\n",
       "  <th>BA</th>        <td> 5483.8818</td> <td>  190.400</td> <td>   28.802</td> <td> 0.000</td> <td> 5110.157</td> <td> 5857.606</td>\n",
       "</tr>\n",
       "</table>\n",
       "<table class=\"simpletable\">\n",
       "<tr>\n",
       "  <th>Omnibus:</th>       <td>172.134</td> <th>  Durbin-Watson:     </th> <td>   0.974</td> \n",
       "</tr>\n",
       "<tr>\n",
       "  <th>Prob(Omnibus):</th> <td> 0.000</td>  <th>  Jarque-Bera (JB):  </th> <td> 473.583</td> \n",
       "</tr>\n",
       "<tr>\n",
       "  <th>Skew:</th>          <td>-1.047</td>  <th>  Prob(JB):          </th> <td>1.45e-103</td>\n",
       "</tr>\n",
       "<tr>\n",
       "  <th>Kurtosis:</th>      <td> 6.056</td>  <th>  Cond. No.          </th> <td>    90.8</td> \n",
       "</tr>\n",
       "</table>"
      ],
      "text/plain": [
       "<class 'statsmodels.iolib.summary.Summary'>\n",
       "\"\"\"\n",
       "                            OLS Regression Results                            \n",
       "==============================================================================\n",
       "Dep. Variable:                      R   R-squared:                       0.501\n",
       "Model:                            OLS   Adj. R-squared:                  0.500\n",
       "Method:                 Least Squares   F-statistic:                     829.6\n",
       "Date:                Tue, 24 Apr 2018   Prob (F-statistic):          7.63e-127\n",
       "Time:                        21:56:08   Log-Likelihood:                -4623.9\n",
       "No. Observations:                 828   AIC:                             9252.\n",
       "Df Residuals:                     826   BIC:                             9261.\n",
       "Df Model:                           1                                         \n",
       "Covariance Type:            nonrobust                                         \n",
       "==============================================================================\n",
       "                 coef    std err          t      P>|t|      [0.025      0.975]\n",
       "------------------------------------------------------------------------------\n",
       "Intercept   -704.2240     49.995    -14.086      0.000    -802.356    -606.092\n",
       "BA          5483.8818    190.400     28.802      0.000    5110.157    5857.606\n",
       "==============================================================================\n",
       "Omnibus:                      172.134   Durbin-Watson:                   0.974\n",
       "Prob(Omnibus):                  0.000   Jarque-Bera (JB):              473.583\n",
       "Skew:                          -1.047   Prob(JB):                    1.45e-103\n",
       "Kurtosis:                       6.056   Cond. No.                         90.8\n",
       "==============================================================================\n",
       "\n",
       "Warnings:\n",
       "[1] Standard Errors assume that the covariance matrix of the errors is correctly specified.\n",
       "\"\"\""
      ]
     },
     "execution_count": 105,
     "metadata": {},
     "output_type": "execute_result"
    }
   ],
   "source": [
    "runs_reg3.summary()"
   ]
  },
  {
   "cell_type": "code",
   "execution_count": 108,
   "metadata": {},
   "outputs": [
    {
     "data": {
      "text/html": [
       "<table class=\"simpletable\">\n",
       "<caption>OLS Regression Results</caption>\n",
       "<tr>\n",
       "  <th>Dep. Variable:</th>            <td>R</td>        <th>  R-squared:         </th> <td>   0.913</td> \n",
       "</tr>\n",
       "<tr>\n",
       "  <th>Model:</th>                   <td>OLS</td>       <th>  Adj. R-squared:    </th> <td>   0.913</td> \n",
       "</tr>\n",
       "<tr>\n",
       "  <th>Method:</th>             <td>Least Squares</td>  <th>  F-statistic:       </th> <td>   4414.</td> \n",
       "</tr>\n",
       "<tr>\n",
       "  <th>Date:</th>             <td>Tue, 24 Apr 2018</td> <th>  Prob (F-statistic):</th> <td>2.87e-224</td>\n",
       "</tr>\n",
       "<tr>\n",
       "  <th>Time:</th>                 <td>21:58:25</td>     <th>  Log-Likelihood:    </th> <td> -1941.4</td> \n",
       "</tr>\n",
       "<tr>\n",
       "  <th>No. Observations:</th>      <td>   420</td>      <th>  AIC:               </th> <td>   3887.</td> \n",
       "</tr>\n",
       "<tr>\n",
       "  <th>Df Residuals:</th>          <td>   418</td>      <th>  BIC:               </th> <td>   3895.</td> \n",
       "</tr>\n",
       "<tr>\n",
       "  <th>Df Model:</th>              <td>     1</td>      <th>                     </th>     <td> </td>    \n",
       "</tr>\n",
       "<tr>\n",
       "  <th>Covariance Type:</th>      <td>nonrobust</td>    <th>                     </th>     <td> </td>    \n",
       "</tr>\n",
       "</table>\n",
       "<table class=\"simpletable\">\n",
       "<tr>\n",
       "      <td></td>         <th>coef</th>     <th>std err</th>      <th>t</th>      <th>P>|t|</th>  <th>[0.025</th>    <th>0.975]</th>  \n",
       "</tr>\n",
       "<tr>\n",
       "  <th>Intercept</th> <td> -808.2277</td> <td>   23.470</td> <td>  -34.437</td> <td> 0.000</td> <td> -854.361</td> <td> -762.094</td>\n",
       "</tr>\n",
       "<tr>\n",
       "  <th>OPS</th>       <td> 2083.4447</td> <td>   31.360</td> <td>   66.436</td> <td> 0.000</td> <td> 2021.802</td> <td> 2145.088</td>\n",
       "</tr>\n",
       "</table>\n",
       "<table class=\"simpletable\">\n",
       "<tr>\n",
       "  <th>Omnibus:</th>       <td>10.718</td> <th>  Durbin-Watson:     </th> <td>   1.726</td>\n",
       "</tr>\n",
       "<tr>\n",
       "  <th>Prob(Omnibus):</th> <td> 0.005</td> <th>  Jarque-Bera (JB):  </th> <td>  13.624</td>\n",
       "</tr>\n",
       "<tr>\n",
       "  <th>Skew:</th>          <td> 0.250</td> <th>  Prob(JB):          </th> <td> 0.00110</td>\n",
       "</tr>\n",
       "<tr>\n",
       "  <th>Kurtosis:</th>      <td> 3.727</td> <th>  Cond. No.          </th> <td>    40.6</td>\n",
       "</tr>\n",
       "</table>"
      ],
      "text/plain": [
       "<class 'statsmodels.iolib.summary.Summary'>\n",
       "\"\"\"\n",
       "                            OLS Regression Results                            \n",
       "==============================================================================\n",
       "Dep. Variable:                      R   R-squared:                       0.913\n",
       "Model:                            OLS   Adj. R-squared:                  0.913\n",
       "Method:                 Least Squares   F-statistic:                     4414.\n",
       "Date:                Tue, 24 Apr 2018   Prob (F-statistic):          2.87e-224\n",
       "Time:                        21:58:25   Log-Likelihood:                -1941.4\n",
       "No. Observations:                 420   AIC:                             3887.\n",
       "Df Residuals:                     418   BIC:                             3895.\n",
       "Df Model:                           1                                         \n",
       "Covariance Type:            nonrobust                                         \n",
       "==============================================================================\n",
       "                 coef    std err          t      P>|t|      [0.025      0.975]\n",
       "------------------------------------------------------------------------------\n",
       "Intercept   -808.2277     23.470    -34.437      0.000    -854.361    -762.094\n",
       "OPS         2083.4447     31.360     66.436      0.000    2021.802    2145.088\n",
       "==============================================================================\n",
       "Omnibus:                       10.718   Durbin-Watson:                   1.726\n",
       "Prob(Omnibus):                  0.005   Jarque-Bera (JB):               13.624\n",
       "Skew:                           0.250   Prob(JB):                      0.00110\n",
       "Kurtosis:                       3.727   Cond. No.                         40.6\n",
       "==============================================================================\n",
       "\n",
       "Warnings:\n",
       "[1] Standard Errors assume that the covariance matrix of the errors is correctly specified.\n",
       "\"\"\""
      ]
     },
     "execution_count": 108,
     "metadata": {},
     "output_type": "execute_result"
    }
   ],
   "source": [
    "runs_reg4.summary()"
   ]
  },
  {
   "cell_type": "code",
   "execution_count": null,
   "metadata": {
    "collapsed": true
   },
   "outputs": [],
   "source": []
  }
 ],
 "metadata": {
  "kernelspec": {
   "display_name": "Python 3",
   "language": "python",
   "name": "python3"
  },
  "language_info": {
   "codemirror_mode": {
    "name": "ipython",
    "version": 3
   },
   "file_extension": ".py",
   "mimetype": "text/x-python",
   "name": "python",
   "nbconvert_exporter": "python",
   "pygments_lexer": "ipython3",
   "version": "3.6.2"
  }
 },
 "nbformat": 4,
 "nbformat_minor": 2
}
